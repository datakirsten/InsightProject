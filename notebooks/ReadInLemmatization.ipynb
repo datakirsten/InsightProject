{
 "cells": [
  {
   "cell_type": "code",
   "execution_count": 342,
   "metadata": {},
   "outputs": [
    {
     "name": "stdout",
     "output_type": "stream",
     "text": [
      "[nltk_data] Downloading package wordnet to /Users/Kirsten/nltk_data...\n",
      "[nltk_data]   Unzipping corpora/wordnet.zip.\n"
     ]
    },
    {
     "data": {
      "text/plain": [
       "True"
      ]
     },
     "execution_count": 342,
     "metadata": {},
     "output_type": "execute_result"
    }
   ],
   "source": [
    "# Import relevant tools and load the english language library\n",
    "import spacy\n",
    "nlp = spacy.load('en_core_web_sm')\n",
    "import numpy as np\n",
    "import pandas as pd\n",
    "import nltk\n",
    "nltk.download('wordnet')"
   ]
  },
  {
   "cell_type": "code",
   "execution_count": 343,
   "metadata": {},
   "outputs": [],
   "source": [
    "#input_text = nlp(u\"This Release will be governed by, and construed in accordance with, the laws of the Province of Ontario. If Ontario’s laws conflict with the laws of another applicable jurisdiction, I agree that Ontario shall still govern.\")\n",
    "input_text = nlp(u\"Third, it’s important to recognize that trying to prove others wrong is a double-edged sword. Underdog expectations spark a desire to prove others wrong, but whether this motivation raises or reduces performance depends on how credible we believe observers to be. Focusing on proving others wrong undermined the performance of underdogs when there was a credible observer — they may have gotten too anxious. Leaders, if you want your underdogs to be successful when expectations are credible, focusing on proving others wrong may not be enough; you may also need to take steps to ensure that proving others wrong does not cultivate anxiety or detract from the attention required to succeed at the task at hand. Prior research has shown that reappraising anxiety as excitement, preparing for potential setbacks, or developing a pre-performance ritual can help manage the anxiety that proving others wrong may sometimes create for employees.\")\n",
    "#for token in input_text:\n",
    "#for token in input_text:\n",
    " #   print(token.text, '\\t', token.pos_, '\\t', token.lemma, '\\t', token.lemma_)\n",
    "  #  input_text_list+=token.lemma_"
   ]
  },
  {
   "cell_type": "code",
   "execution_count": 344,
   "metadata": {},
   "outputs": [
    {
     "data": {
      "text/html": [
       "<div>\n",
       "<style scoped>\n",
       "    .dataframe tbody tr th:only-of-type {\n",
       "        vertical-align: middle;\n",
       "    }\n",
       "\n",
       "    .dataframe tbody tr th {\n",
       "        vertical-align: top;\n",
       "    }\n",
       "\n",
       "    .dataframe thead th {\n",
       "        text-align: right;\n",
       "    }\n",
       "</style>\n",
       "<table border=\"1\" class=\"dataframe\">\n",
       "  <thead>\n",
       "    <tr style=\"text-align: right;\">\n",
       "      <th></th>\n",
       "      <th>FREQcount</th>\n",
       "      <th>CDcount</th>\n",
       "      <th>FREQlow</th>\n",
       "      <th>Cdlow</th>\n",
       "      <th>SUBTLWF</th>\n",
       "      <th>Lg10WF</th>\n",
       "      <th>SUBTLCD</th>\n",
       "      <th>Lg10CD</th>\n",
       "    </tr>\n",
       "    <tr>\n",
       "      <th>Word</th>\n",
       "      <th></th>\n",
       "      <th></th>\n",
       "      <th></th>\n",
       "      <th></th>\n",
       "      <th></th>\n",
       "      <th></th>\n",
       "      <th></th>\n",
       "      <th></th>\n",
       "    </tr>\n",
       "  </thead>\n",
       "  <tbody>\n",
       "    <tr>\n",
       "      <th>the</th>\n",
       "      <td>1501908</td>\n",
       "      <td>8388</td>\n",
       "      <td>1339811</td>\n",
       "      <td>8388</td>\n",
       "      <td>29449.18</td>\n",
       "      <td>6.1766</td>\n",
       "      <td>100.00</td>\n",
       "      <td>3.9237</td>\n",
       "    </tr>\n",
       "    <tr>\n",
       "      <th>to</th>\n",
       "      <td>1156570</td>\n",
       "      <td>8383</td>\n",
       "      <td>1138435</td>\n",
       "      <td>8380</td>\n",
       "      <td>22677.84</td>\n",
       "      <td>6.0632</td>\n",
       "      <td>99.94</td>\n",
       "      <td>3.9235</td>\n",
       "    </tr>\n",
       "    <tr>\n",
       "      <th>a</th>\n",
       "      <td>1041179</td>\n",
       "      <td>8382</td>\n",
       "      <td>976941</td>\n",
       "      <td>8380</td>\n",
       "      <td>20415.27</td>\n",
       "      <td>6.0175</td>\n",
       "      <td>99.93</td>\n",
       "      <td>3.9234</td>\n",
       "    </tr>\n",
       "    <tr>\n",
       "      <th>you</th>\n",
       "      <td>2134713</td>\n",
       "      <td>8381</td>\n",
       "      <td>1595028</td>\n",
       "      <td>8376</td>\n",
       "      <td>41857.12</td>\n",
       "      <td>6.3293</td>\n",
       "      <td>99.92</td>\n",
       "      <td>3.9233</td>\n",
       "    </tr>\n",
       "    <tr>\n",
       "      <th>and</th>\n",
       "      <td>682780</td>\n",
       "      <td>8379</td>\n",
       "      <td>515365</td>\n",
       "      <td>8374</td>\n",
       "      <td>13387.84</td>\n",
       "      <td>5.8343</td>\n",
       "      <td>99.89</td>\n",
       "      <td>3.9232</td>\n",
       "    </tr>\n",
       "  </tbody>\n",
       "</table>\n",
       "</div>"
      ],
      "text/plain": [
       "      FREQcount  CDcount  FREQlow  Cdlow   SUBTLWF  Lg10WF  SUBTLCD  Lg10CD\n",
       "Word                                                                       \n",
       "the     1501908     8388  1339811   8388  29449.18  6.1766   100.00  3.9237\n",
       "to      1156570     8383  1138435   8380  22677.84  6.0632    99.94  3.9235\n",
       "a       1041179     8382   976941   8380  20415.27  6.0175    99.93  3.9234\n",
       "you     2134713     8381  1595028   8376  41857.12  6.3293    99.92  3.9233\n",
       "and      682780     8379   515365   8374  13387.84  5.8343    99.89  3.9232"
      ]
     },
     "execution_count": 344,
     "metadata": {},
     "output_type": "execute_result"
    }
   ],
   "source": [
    "#read in subtlexus corpus, large corpus with frequency information\n",
    "corpus = pd.read_csv('SUBTLEXusExcel2007.tsv', sep='\\t',index_col =\"Word\")\n",
    "corpus.head()"
   ]
  },
  {
   "cell_type": "code",
   "execution_count": 345,
   "metadata": {},
   "outputs": [],
   "source": [
    "#get frequency of text item in corpus testing\n",
    "#corpus.loc[input_text[1].lemma_,['SUBTLWF','Lg10WF']]"
   ]
  },
  {
   "cell_type": "code",
   "execution_count": 346,
   "metadata": {},
   "outputs": [],
   "source": [
    "#corpus_columns=tuple(zip(corpus['Word'], corpus['SUBTLWF']))\n"
   ]
  },
  {
   "cell_type": "code",
   "execution_count": 347,
   "metadata": {},
   "outputs": [
    {
     "name": "stdout",
     "output_type": "stream",
     "text": [
      "detract pre cultivate\n"
     ]
    }
   ],
   "source": [
    "listofwordtypes=['VERB','ADV','NOUN','ADJ']\n",
    "counter=0\n",
    "corpus_results=[]\n",
    "corpus_results_counter=[]\n",
    "for token in input_text: \n",
    "    if (token.pos_ in listofwordtypes):\n",
    "        try:\n",
    "            corpus_results.append(corpus.loc[token.lemma_,'Lg10WF'])\n",
    "            corpus_results_counter.append(counter)\n",
    "        except KeyError:\n",
    "              pass\n",
    "        #  print('x')\n",
    "        # print('x')\n",
    "    #  #  print(corpus.loc[token.lemma_,'Lg10WF'])#,corpus.loc[token.lemma_].Lg10WF)\n",
    "    counter=counter+1 \n",
    "outputtuple=sorted(zip(corpus_results, corpus_results_counter))[:3]    \n",
    "print(input_text[outputtuple[0][1]],input_text[outputtuple[1][1]],input_text[outputtuple[2][1]])"
   ]
  },
  {
   "cell_type": "code",
   "execution_count": 350,
   "metadata": {},
   "outputs": [
    {
     "data": {
      "text/plain": [
       "'take_away'"
      ]
     },
     "execution_count": 350,
     "metadata": {},
     "output_type": "execute_result"
    }
   ],
   "source": [
    "from nltk.corpus import wordnet as wn  #Import wordnet from the NLTK\n",
    "#wordnet.synsets('dog')\n",
    "synset=wn.synsets('detract')\n",
    "synset[0].lemmas()[0].name()"
   ]
  },
  {
   "cell_type": "code",
   "execution_count": 367,
   "metadata": {},
   "outputs": [
    {
     "name": "stdout",
     "output_type": "stream",
     "text": [
      "['take_away', 'detract', 'cultivate', 'cultivate', 'crop', 'work', 'educate', 'school', 'train', 'cultivate', 'civilize', 'civilise', 'domesticate', 'cultivate', 'naturalize', 'naturalise', 'tame']\n"
     ]
    }
   ],
   "source": [
    "syn=[]\n",
    "for thing in outputtuple:\n",
    "    for synset in wordnet.synsets(str(input_text[thing[1]])):\n",
    "        for lemma in synset.lemmas():\n",
    "            syn.append(lemma.name())    #add the synonyms\n",
    "\n",
    "print(syn)\n"
   ]
  },
  {
   "cell_type": "code",
   "execution_count": 364,
   "metadata": {},
   "outputs": [
    {
     "data": {
      "text/plain": [
       "3"
      ]
     },
     "execution_count": 364,
     "metadata": {},
     "output_type": "execute_result"
    }
   ],
   "source": [
    "len(outputtuple)\n"
   ]
  },
  {
   "cell_type": "code",
   "execution_count": null,
   "metadata": {},
   "outputs": [],
   "source": []
  }
 ],
 "metadata": {
  "kernelspec": {
   "display_name": "Python 3",
   "language": "python",
   "name": "python3"
  },
  "language_info": {
   "codemirror_mode": {
    "name": "ipython",
    "version": 3
   },
   "file_extension": ".py",
   "mimetype": "text/x-python",
   "name": "python",
   "nbconvert_exporter": "python",
   "pygments_lexer": "ipython3",
   "version": "3.7.6"
  }
 },
 "nbformat": 4,
 "nbformat_minor": 2
}
